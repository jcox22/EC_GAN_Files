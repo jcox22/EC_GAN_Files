{
 "cells": [
  {
   "cell_type": "markdown",
   "id": "9c24333a",
   "metadata": {},
   "source": [
    "# Getting the Curves Data\n",
    "\n",
    "Data imported from https://github.com/JohnCremona/ecdata/tree/master/curvedata"
   ]
  },
  {
   "cell_type": "markdown",
   "id": "4596eb13",
   "metadata": {},
   "source": [
    "### Using Bash script to get correct folder of data from github repo\n",
    "\n",
    "Couldn't use git clone because git wasn't updated enough to extract just one folder from the repo"
   ]
  },
  {
   "cell_type": "code",
   "execution_count": 16,
   "id": "b0dbb100",
   "metadata": {},
   "outputs": [
    {
     "name": "stdout",
     "output_type": "stream",
     "text": [
      "Initialized empty Git repository in /home/ec2-user/SageMaker/Data/curves_raw/.git/\n",
      "Updating origin\n"
     ]
    },
    {
     "name": "stderr",
     "output_type": "stream",
     "text": [
      "From https://github.com/JohnCremona/ecdata\n",
      " * [new branch]      master     -> origin/master\n",
      " * [new tag]         2015-02-11 -> 2015-02-11\n",
      " * [new tag]         2015-05-19 -> 2015-05-19\n",
      " * [new tag]         2015-09-07 -> 2015-09-07\n",
      " * [new tag]         2016-02-07 -> 2016-02-07\n",
      " * [new tag]         2016-10-17 -> 2016-10-17\n",
      " * [new tag]         2019-10-29 -> 2019-10-29\n",
      "From https://github.com/JohnCremona/ecdata\n",
      " * branch            master     -> FETCH_HEAD\n"
     ]
    }
   ],
   "source": [
    "%%bash\n",
    "\n",
    "cd curves_raw\n",
    "\n",
    "# Start git repo\n",
    "git init\n",
    "\n",
    "# Track repository\n",
    "git remote add -f origin https://github.com/JohnCremona/ecdata\n",
    "\n",
    "# Enable tree check\n",
    "git config core.sparseCheckout true \n",
    "\n",
    "# Look at this link for explanation https://en.terminalroot.com.br/how-to-clone-only-a-subdirectory-with-git-or-svn/\n",
    "echo 'curves' >> .git/info/sparse-checkout\n",
    "\n",
    "# Download with pull\n",
    "git pull origin master\n"
   ]
  },
  {
   "cell_type": "markdown",
   "id": "00e7d504",
   "metadata": {},
   "source": [
    "### Combining all the data into one csv file"
   ]
  },
  {
   "cell_type": "code",
   "execution_count": 6,
   "id": "a73037ea",
   "metadata": {},
   "outputs": [],
   "source": [
    "%%bash\n",
    "\n",
    "cd curves\n",
    "\n",
    "cat curves.* > data.csv"
   ]
  },
  {
   "cell_type": "code",
   "execution_count": null,
   "id": "545ff98a",
   "metadata": {},
   "outputs": [],
   "source": []
  }
 ],
 "metadata": {
  "kernelspec": {
   "display_name": "Python 3",
   "language": "python",
   "name": "python3"
  },
  "language_info": {
   "codemirror_mode": {
    "name": "ipython",
    "version": 3
   },
   "file_extension": ".py",
   "mimetype": "text/x-python",
   "name": "python",
   "nbconvert_exporter": "python",
   "pygments_lexer": "ipython3",
   "version": "3.8.8"
  },
  "varInspector": {
   "cols": {
    "lenName": 16,
    "lenType": 16,
    "lenVar": 40
   },
   "kernels_config": {
    "python": {
     "delete_cmd_postfix": "",
     "delete_cmd_prefix": "del ",
     "library": "var_list.py",
     "varRefreshCmd": "print(var_dic_list())"
    },
    "r": {
     "delete_cmd_postfix": ") ",
     "delete_cmd_prefix": "rm(",
     "library": "var_list.r",
     "varRefreshCmd": "cat(var_dic_list()) "
    }
   },
   "types_to_exclude": [
    "module",
    "function",
    "builtin_function_or_method",
    "instance",
    "_Feature"
   ],
   "window_display": false
  }
 },
 "nbformat": 4,
 "nbformat_minor": 5
}
