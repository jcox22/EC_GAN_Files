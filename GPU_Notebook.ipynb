{
 "cells": [
  {
   "cell_type": "markdown",
   "id": "caffb6a6",
   "metadata": {},
   "source": [
    "# Why GPU's are faster than CPU's in Neural Networks"
   ]
  },
  {
   "cell_type": "markdown",
   "id": "0e69574a",
   "metadata": {},
   "source": [
    "#### What are the differences between CPU's and GPU's processing?\n",
    "\n",
    "CPU's use a stack structure to compute a list of complex computations sequentially.  The processing unit of a CPU is called a core.  Each core can process one task at a time, and CPU's typically have between 2-24 cores.  Thus, a CPU with 24 cores can process 24 tasks at once, while a CPU with two cores can only process two tasks at once.  The cores in CPU's are highly optimized to process a wide variety of tasks sequentially.\n",
    "\n",
    "GPU's also use cores, but have magnitudes more than CPU's.  It is common for GPU's to have hundreds or thousands of cores, which are all optimized to complete simple tasks over large data streams.  The cores in GPU's tend to be smaller and more specialized than in CPU's.  Because of all these cores, GPU's are designed to compute many small, specialized tasks simultaneously.\n",
    "\n",
    "\n",
    "![alt text](https://www.researchgate.net/profile/Mohamed_Meselhi/publication/323281068/figure/fig1/AS:727952463495175@1550568800252/CPU-vs-GPU-architecture-each-blue-square-represents-one-core.ppm \"Title\")"
   ]
  },
  {
   "cell_type": "markdown",
   "id": "a84893f2",
   "metadata": {},
   "source": [
    "#### Parallel Programming in GPU's\n",
    "\n",
    "GPU's are designed to execute many small calculations simultaneously.  When a large, complex problem is broken down into smaller parts that are calculated at the same time across many cores, it is called parallel programming.  Parallel programming is most commonly used in imaging and videos, where it can efficiently calculate the color of each pixel on a computer screen."
   ]
  },
  {
   "cell_type": "markdown",
   "id": "33681ecb",
   "metadata": {},
   "source": [
    "#### When are GPU's faster than CPU's?\n",
    "\n",
    "Despite the increased amount of cores, GPU's are not always faster then CPU's.  In many computations, CPU's actually tend to perform better.  This is because most computations are not able to take advantage of all the available cores.  However, when the following two rules are met, GPU's typically are able to outperform CPU's.\n",
    "\n",
    "1.  The computation can be broken into parts\n",
    "2.  The parts can be calculated independently.\n",
    "\n",
    "When these conditions are met, parallel processing can be used.  Since the GPU is optimized to handle parallel processing, it will outperform the CPU."
   ]
  },
  {
   "cell_type": "markdown",
   "id": "a4aab9b7",
   "metadata": {},
   "source": [
    "#### How do Neural Networks use Parallel Processing?\n",
    "\n",
    "Neural networks are considered embarrassingly parallel.  That means very little effort is needed to split the computation into smaller parallel tasks.  \n",
    "\n",
    "The computational tasks in neural networks--multiplying weights and biases and differentiating in backpropagation --are all independent and can be calculated on different cores\n",
    "\n",
    "\n",
    "![alt text](https://miro.medium.com/max/1400/1*1JCfvimyyFm1yqWMYmnm2g.png \"Title\")"
   ]
  },
  {
   "cell_type": "markdown",
   "id": "2e16e126",
   "metadata": {},
   "source": [
    "#### How to Implement GPU's into Neural Networks with CUDA\n",
    "\n",
    "CUDA is a software platform that communicates with the GPU hardware.  In Python, there are packages that allow the use of a CUDA to utilize a GPU instead of the CPU.  Using RAPIDS, it is easy to implement a GPU with familiar code.  RAPIDS has similar syntax and functions to popular packages used in Python such as numpy, pandas, and scikit-learn.  "
   ]
  },
  {
   "cell_type": "code",
   "execution_count": null,
   "id": "777c21d9",
   "metadata": {},
   "outputs": [],
   "source": []
  }
 ],
 "metadata": {
  "kernelspec": {
   "display_name": "conda_pytorch_p36",
   "language": "python",
   "name": "conda_pytorch_p36"
  },
  "language_info": {
   "codemirror_mode": {
    "name": "ipython",
    "version": 3
   },
   "file_extension": ".py",
   "mimetype": "text/x-python",
   "name": "python",
   "nbconvert_exporter": "python",
   "pygments_lexer": "ipython3",
   "version": "3.6.13"
  }
 },
 "nbformat": 4,
 "nbformat_minor": 5
}
