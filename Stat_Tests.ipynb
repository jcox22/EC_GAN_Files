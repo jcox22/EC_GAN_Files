{
 "cells": [
  {
   "cell_type": "code",
   "execution_count": 182,
   "id": "d827ba80-6cd5-450b-a728-a5166d09c41d",
   "metadata": {},
   "outputs": [],
   "source": [
    "# T tests\n",
    "\n",
    "from scipy import stats as st\n",
    "import numpy as np\n",
    "import scipy"
   ]
  },
  {
   "cell_type": "code",
   "execution_count": 221,
   "id": "c7f9248a-4b3a-4165-95b9-a8276e9a7fbc",
   "metadata": {},
   "outputs": [
    {
     "name": "stdout",
     "output_type": "stream",
     "text": [
      "Percent of generated curves that are rank 0: 27.73%\n",
      "Percent of generated curves that are rank 1: 47.27%\n",
      "Percent of generated curves that are greater than rank 1: 25.0%\n"
     ]
    }
   ],
   "source": [
    "## Change the file name below to the desired file\n",
    "\n",
    "with open('Generated_Curves/noisy4layers_50epochs_5000nodes_256batch_size_0.001lr_0.0var_weight_ranks.txt') as f:\n",
    "    curves_string = f.read()   \n",
    "    \n",
    "curve_ranks_generator = curves_string.strip('][').split(', ')\n",
    "\n",
    "print(\"Percent of generated curves that are rank 0: {}\".format(str(round(curve_ranks_generator.count('0')/len(curve_ranks_generator)*100, 2)) + '%'))\n",
    "print(\"Percent of generated curves that are rank 1: {}\".format(str(round(curve_ranks_generator.count('1')/len(curve_ranks_generator)*100, 2)) + '%'))\n",
    "print(\"Percent of generated curves that are greater than rank 1: {}\".format(str(round((len(curve_ranks_generator) - (curve_ranks_generator.count('0') + curve_ranks_generator.count('1')))/len(curve_ranks_generator)*100, 2)) + '%'))\n",
    "\n",
    "curve_ranks_generator = [int(v) for v in curve_ranks_generator if v.lstrip('-').isnumeric()]"
   ]
  },
  {
   "cell_type": "code",
   "execution_count": 217,
   "id": "41aa699d-2fa8-40ae-96a4-d28338ff1da5",
   "metadata": {},
   "outputs": [
    {
     "name": "stdout",
     "output_type": "stream",
     "text": [
      "Percent of generated curves that are rank 0: 37.8%\n",
      "Percent of generated curves that are rank 1: 40.94%\n",
      "Percent of generated curves that are greater than rank 1: 21.26%\n"
     ]
    }
   ],
   "source": [
    "with open('./Generated_Curves/untrained_4layers_1epochs_1000nodes_256batch_size_0.001lr_0.5var_weight_ranks.txt') as f:\n",
    "    curves_string = f.read()   \n",
    "    \n",
    "curve_ranks = curves_string.strip('][').split(', ')\n",
    "\n",
    "print(\"Percent of generated curves that are rank 0: {}\".format(str(round(curve_ranks.count('0')/len(curve_ranks)*100, 2)) + '%'))\n",
    "print(\"Percent of generated curves that are rank 1: {}\".format(str(round(curve_ranks.count('1')/len(curve_ranks)*100, 2)) + '%'))\n",
    "print(\"Percent of generated curves that are greater than rank 1: {}\".format(str(round((len(curve_ranks) - (curve_ranks.count('0') + curve_ranks.count('1')))/len(curve_ranks)*100, 2)) + '%'))\n",
    "\n",
    "curve_ranks_untrained = [int(v) for v in curve_ranks if v.lstrip('-').isnumeric()]"
   ]
  },
  {
   "cell_type": "code",
   "execution_count": 227,
   "id": "88c4ed9c-5ae5-4a44-bebf-8f706acdd439",
   "metadata": {},
   "outputs": [
    {
     "data": {
      "text/plain": [
       "Ttest_indResult(statistic=-2.312602964580819, pvalue=0.021143234731845734)"
      ]
     },
     "execution_count": 227,
     "metadata": {},
     "output_type": "execute_result"
    }
   ],
   "source": [
    "st.ttest_ind(curve_ranks_untrained, curve_ranks_generator)"
   ]
  }
 ],
 "metadata": {
  "kernelspec": {
   "display_name": "Python 3 (ipykernel)",
   "language": "python",
   "name": "python3"
  },
  "language_info": {
   "codemirror_mode": {
    "name": "ipython",
    "version": 3
   },
   "file_extension": ".py",
   "mimetype": "text/x-python",
   "name": "python",
   "nbconvert_exporter": "python",
   "pygments_lexer": "ipython3",
   "version": "3.9.7"
  }
 },
 "nbformat": 4,
 "nbformat_minor": 5
}
