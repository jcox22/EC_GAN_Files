{
 "cells": [
  {
   "cell_type": "markdown",
   "id": "f8272a45",
   "metadata": {},
   "source": [
    "# Training Notebook"
   ]
  },
  {
   "cell_type": "markdown",
   "id": "3fd2b86b",
   "metadata": {},
   "source": [
    "##### Import Packages and Set Up"
   ]
  },
  {
   "cell_type": "code",
   "execution_count": 384,
   "id": "66de626a",
   "metadata": {},
   "outputs": [],
   "source": [
    "import pandas as pd\n",
    "\n",
    "import argparse\n",
    "import json\n",
    "import logging\n",
    "import os\n",
    "import itertools\n",
    "\n",
    "import torch\n",
    "import torch.distributed as dist\n",
    "import torch.nn as nn\n",
    "import torch.nn.functional as F\n",
    "import torch.nn.parallel\n",
    "import torch.optim\n",
    "import torch.utils.data\n",
    "import torch.utils.data.distributed\n",
    "\n",
    "from typing import List\n",
    "\n",
    "import matplotlib.pyplot as plt\n",
    "\n",
    "## Set up logger to get details of errors\n",
    "logger = logging.getLogger(__name__)\n",
    "logger.setLevel(logging.DEBUG)\n",
    "\n",
    "## Set up device settings\n",
    "device = \"cuda\" if torch.cuda.is_available() else \"cpu\""
   ]
  },
  {
   "cell_type": "markdown",
   "id": "cbf1a9ea",
   "metadata": {},
   "source": [
    "##### Import Data\n",
    "\n",
    "The imported data is a list of elliptic curves of rank 1.  Each curve is represented in binary."
   ]
  },
  {
   "cell_type": "code",
   "execution_count": 385,
   "id": "b55ca182",
   "metadata": {},
   "outputs": [],
   "source": [
    "coef_df_binary = pd.read_csv(\"https://raw.githubusercontent.com/jcox22/Sagemaker_practice_gan/main/rank_1_curves.csv\")\n",
    "coef_df_binary = coef_df_binary.drop(columns = ['Unnamed: 0'])"
   ]
  },
  {
   "cell_type": "markdown",
   "id": "eba10bdc-9d00-470b-b42e-c6056dc8fb3f",
   "metadata": {},
   "source": [
    "One of the key values we use in the training of our model is the variance of the original dataset.  The idea is that we can try to mimick the natural variance in that dataset to create heterogeneity in the curves we generate."
   ]
  },
  {
   "cell_type": "code",
   "execution_count": 386,
   "id": "a2d31750-8b81-4536-b7f3-d7d5908d2851",
   "metadata": {},
   "outputs": [],
   "source": [
    "# Create Variance variables from data\n",
    "variances = coef_df_binary.describe().loc[['std']]**2\n",
    "real_var = torch.tensor(variances.to_numpy(), dtype = torch.float32, device = device)"
   ]
  },
  {
   "cell_type": "markdown",
   "id": "f9993b9c",
   "metadata": {},
   "source": [
    "##### Set Parameters\n",
    "\n",
    "The following are all key parameters of the GAN model we are training.  We also create names for the specific model we are training by the values of these parameters.  That way when we are looking back at the long list of models we test, it is easy to identify how each model is trained."
   ]
  },
  {
   "cell_type": "code",
   "execution_count": 471,
   "id": "bffa594b",
   "metadata": {},
   "outputs": [],
   "source": [
    "# k is for number of nodes in each hidden layer of NN\n",
    "k = 900\n",
    "\n",
    "# For number of inputs (32 binary digits)\n",
    "input_length = 32\n",
    "output_length = input_length\n",
    "\n",
    "# Model Parameters\n",
    "epochs = 10\n",
    "batch_size = 256\n",
    "lr = 0.001\n",
    "momentum = 0.9\n",
    "var_weight = 1.0\n",
    "layers = 4\n",
    "\n",
    "# Needed later on for save_model\n",
    "model_dir = '/models'\n",
    "data_dir = '/training'\n",
    "model_name = 'noisy' + str(layers) + 'layers_' + str(epochs) + 'epochs_' + str(k) + 'nodes_' + str(batch_size) + 'batch_size_' + str(lr) + 'lr_' + str(var_weight) + 'var_weight'\n",
    "loss_folder = './Losses/' + model_name"
   ]
  },
  {
   "cell_type": "markdown",
   "id": "f83b2308-800c-4aaa-b38a-b7fc73fbaa9b",
   "metadata": {},
   "source": [
    "##### Create New Folders to Save Loss Info\n",
    "\n",
    "One of the statistics that we want to track is loss information over each epoch.  To simplify the process over training many models, we can save each models loss infomation in its own folder.  These folders are found under the 'Losses' folder."
   ]
  },
  {
   "cell_type": "code",
   "execution_count": 472,
   "id": "cc523c0c-3120-47d8-b644-e7dd9c2b2299",
   "metadata": {},
   "outputs": [
    {
     "name": "stdout",
     "output_type": "stream",
     "text": [
      "Successfully created the directory ./Losses/noisy4layers_10epochs_900nodes_256batch_size_0.001lr_1.0var_weight \n"
     ]
    }
   ],
   "source": [
    "try:\n",
    "    os.mkdir(loss_folder)\n",
    "except OSError:\n",
    "    print (\"Creation of the directory %s failed\" % loss_folder)\n",
    "else:\n",
    "    print (\"Successfully created the directory %s \" % loss_folder)"
   ]
  },
  {
   "cell_type": "markdown",
   "id": "5b7fb104",
   "metadata": {},
   "source": [
    "##### Training Dataset\n",
    "\n",
    "The following cell sets up the training data that we previously loaded into the format that Pytorch prefers for its training jobs.  "
   ]
  },
  {
   "cell_type": "code",
   "execution_count": 473,
   "id": "3a5f0e24",
   "metadata": {},
   "outputs": [],
   "source": [
    "train_tensor = torch.tensor(coef_df_binary.to_numpy(), dtype = torch.float32, device = device)\n",
    "train_ds = torch.utils.data.TensorDataset(train_tensor)\n",
    "train_loader = torch.utils.data.DataLoader(train_ds, batch_size=batch_size, shuffle=True, drop_last = True)"
   ]
  },
  {
   "cell_type": "markdown",
   "id": "1d6604e3-7dbd-4c65-9d0a-609afff3e9cd",
   "metadata": {},
   "source": [
    "##### Set Distribution of initial inputs"
   ]
  },
  {
   "cell_type": "code",
   "execution_count": 474,
   "id": "8bd77c5e-c75b-44fa-8c9e-d64379cf7075",
   "metadata": {},
   "outputs": [],
   "source": [
    "def init_normal(m):\n",
    "    if type(m) == nn.Linear:\n",
    "        nn.init.normal(m.weight)"
   ]
  },
  {
   "cell_type": "markdown",
   "id": "88a9093c",
   "metadata": {},
   "source": [
    "##### Create NN Classes"
   ]
  },
  {
   "cell_type": "code",
   "execution_count": 475,
   "id": "c9a699df-44b5-4783-bdd0-91f6151765dc",
   "metadata": {},
   "outputs": [],
   "source": [
    "if layers == 3:\n",
    "    class Generator(nn.Module):\n",
    "        def __init__(self, output_length: int):\n",
    "            super(Generator, self).__init__()\n",
    "            self.dense_layer = nn.Linear(output_length, k)\n",
    "            self.dense_layer2 = nn.Linear(k, k)\n",
    "            self.dense_layer3 = nn.Linear(k, output_length)\n",
    "\n",
    "        def forward(self, x):\n",
    "            l1 = self.dense_layer(x)\n",
    "            l2 = self.dense_layer2(F.relu(l1))\n",
    "            l3 = self.dense_layer3(F.relu(l2))\n",
    "            return l3\n",
    "    \n",
    "    class Discriminator(nn.Module):\n",
    "        def __init__(self, input_length: int):\n",
    "            super(Discriminator, self).__init__()\n",
    "            self.dense_layer = nn.Linear(int(input_length), k)\n",
    "            self.dense_layer2 = nn.Linear(k, k)\n",
    "            self.dense_layer3 = nn.Linear(k, 1)\n",
    "\n",
    "        def forward(self, x):\n",
    "            l1 = self.dense_layer(x)\n",
    "            l2 = self.dense_layer2(F.relu(l1))\n",
    "            l3 = self.dense_layer3(F.relu(l2))\n",
    "            return l3\n",
    "        \n",
    "elif layers == 4:\n",
    "    class Generator(nn.Module):\n",
    "        def __init__(self, output_length: int):\n",
    "            super(Generator, self).__init__()\n",
    "            self.dense_layer = nn.Linear(output_length, k)\n",
    "            self.dense_layer2 = nn.Linear(k, k)\n",
    "            self.dense_layer3 = nn.Linear(k, k)\n",
    "            self.dense_layer4 = nn.Linear(k, output_length)\n",
    "\n",
    "        def forward(self, x):\n",
    "            l1 = self.dense_layer(x)\n",
    "            l2 = self.dense_layer2(F.relu(l1))\n",
    "            l3 = self.dense_layer3(F.relu(l2))\n",
    "            l4 = self.dense_layer4(F.relu(l3))\n",
    "            return l4\n",
    "    \n",
    "    class Discriminator(nn.Module):\n",
    "        def __init__(self, input_length: int):\n",
    "            super(Discriminator, self).__init__()\n",
    "            self.dense_layer = nn.Linear(int(input_length), k)\n",
    "            self.dense_layer2 = nn.Linear(k, k)\n",
    "            self.dense_layer3 = nn.Linear(k, k)\n",
    "            self.dense_layer4 = nn.Linear(k, 1)\n",
    "\n",
    "        def forward(self, x):\n",
    "            l1 = self.dense_layer(x)\n",
    "            l2 = self.dense_layer2(F.relu(l1))\n",
    "            l3 = self.dense_layer3(F.relu(l2))\n",
    "            l4 = self.dense_layer4(F.relu(l3))\n",
    "            return l4\n",
    "        \n",
    "elif layers == 5:\n",
    "        class Generator(nn.Module):\n",
    "            def __init__(self, output_length: int):\n",
    "                super(Generator, self).__init__()\n",
    "                self.dense_layer = nn.Linear(output_length, k)\n",
    "                self.dense_layer2 = nn.Linear(k, k)\n",
    "                self.dense_layer3 = nn.Linear(k, k)\n",
    "                self.dense_layer4 = nn.Linear(k, k)\n",
    "                self.dense_layer5 = nn.Linear(k, output_length)\n",
    "\n",
    "            def forward(self, x):\n",
    "                l1 = self.dense_layer(x)\n",
    "                l2 = self.dense_layer2(F.relu(l1))\n",
    "                l3 = self.dense_layer3(F.relu(l2))\n",
    "                l4 = self.dense_layer4(F.relu(l3))\n",
    "                l5 = self.dense_layer5(F.relu(l4))\n",
    "                return l5\n",
    "    \n",
    "        class Discriminator(nn.Module):\n",
    "            def __init__(self, input_length: int):\n",
    "                super(Discriminator, self).__init__()\n",
    "                self.dense_layer = nn.Linear(int(input_length), k)\n",
    "                self.dense_layer2 = nn.Linear(k, k)\n",
    "                self.dense_layer3 = nn.Linear(k, k)\n",
    "                self.dense_layer4 = nn.Linear(k, k)\n",
    "                self.dense_layer5 = nn.Linear(k, 1)\n",
    "\n",
    "            def forward(self, x):\n",
    "                l1 = self.dense_layer(x)\n",
    "                l2 = self.dense_layer2(F.relu(l1))\n",
    "                l3 = self.dense_layer3(F.relu(l2))\n",
    "                l4 = self.dense_layer4(F.relu(l3))\n",
    "                l5 = self.dense_layer5(F.relu(l4))\n",
    "                return l5"
   ]
  },
  {
   "cell_type": "markdown",
   "id": "e6e72c88",
   "metadata": {},
   "source": [
    "##### Set up for training function"
   ]
  },
  {
   "cell_type": "code",
   "execution_count": 476,
   "id": "abdfc5e3",
   "metadata": {},
   "outputs": [
    {
     "name": "stderr",
     "output_type": "stream",
     "text": [
      "/tmp/ipykernel_3464696/3949670600.py:3: UserWarning: nn.init.normal is now deprecated in favor of nn.init.normal_.\n",
      "  nn.init.normal(m.weight)\n"
     ]
    }
   ],
   "source": [
    "logger.info(\"Device Type: {}\".format(device))\n",
    "\n",
    "# Call generator and discriminator\n",
    "generator = Generator(output_length)\n",
    "discriminator = Discriminator(input_length)\n",
    "\n",
    "# Make sure it is on device\n",
    "generator = generator.to(device)\n",
    "discriminator = discriminator.to(device)\n",
    "\n",
    "# Apply distrubution type * \n",
    "generator.apply(init_normal)\n",
    "discriminator.apply(init_normal)\n",
    "\n",
    "# Loss\n",
    "loss = nn.BCEWithLogitsLoss().to(device)\n",
    "MSE = torch.nn.MSELoss(reduction = 'sum').to(device)\n",
    "\n",
    "# Choose optimizer\n",
    "gen_optimizer = torch.optim.Adam(generator.parameters(), lr=lr)\n",
    "#optimizer = torch.optim.SGD(model.parameters(), lr=args.lr, momentum=momentum)\n",
    "\n",
    "dis_optimizer = torch.optim.Adam(discriminator.parameters(), lr=lr)"
   ]
  },
  {
   "cell_type": "code",
   "execution_count": 477,
   "id": "f3e99c74-462a-44f0-974b-90afc11177d9",
   "metadata": {},
   "outputs": [],
   "source": [
    "def extract(G_of_noise):\n",
    "\n",
    "    G_numpy = G_of_noise.detach()   \n",
    "\n",
    "    curves = []\n",
    "\n",
    "    for i in range(len(G_numpy)):\n",
    "        c1 = int(G_numpy[i][0].round())\n",
    "        c2 = ((-1)**(int(G_numpy[i][1].round())))*(int(G_numpy[i][2].round()))\n",
    "        c3 = int(G_numpy[i][3].round())\n",
    "        c4 = (-1)**(int(G_numpy[i][4].round()))*(int(\"\".join([str(int(y)) for y in G_numpy[i][5:18].round()]), 2))\n",
    "        c6 = (-1)**(int(G_numpy[i][12].round()))*(int(\"\".join([str(int(y)) for y in G_numpy[i][19:].round()]), 2))\n",
    "    \n",
    "        coef = [c1,c2,c3,c4,c6]\n",
    "        curves.append(coef)\n",
    "    return curves\n"
   ]
  },
  {
   "cell_type": "markdown",
   "id": "161a8e06",
   "metadata": {},
   "source": [
    "##### Training Loop"
   ]
  },
  {
   "cell_type": "code",
   "execution_count": 481,
   "id": "44309d08",
   "metadata": {
    "tags": []
   },
   "outputs": [
    {
     "name": "stdout",
     "output_type": "stream",
     "text": [
      "1\n",
      "256\n",
      "2\n",
      "254\n",
      "3\n",
      "253\n",
      "4\n",
      "255\n",
      "5\n",
      "255\n",
      "6\n",
      "254\n",
      "7\n",
      "254\n",
      "8\n",
      "252\n",
      "9\n",
      "252\n",
      "10\n",
      "250\n",
      "CPU times: user 27.6 s, sys: 10.5 s, total: 38.1 s\n",
      "Wall time: 25 s\n"
     ]
    },
    {
     "data": {
      "text/plain": [
       "[<matplotlib.lines.Line2D at 0x7ff410121af0>]"
      ]
     },
     "execution_count": 481,
     "metadata": {},
     "output_type": "execute_result"
    },
    {
     "data": {
      "image/png": "[encoded data removed]",
      "text/plain": [
       "<Figure size 432x288 with 1 Axes>"
      ]
     },
     "metadata": {
      "needs_background": "light"
     },
     "output_type": "display_data"
    }
   ],
   "source": [
    "%%time\n",
    "running_loss_list = []\n",
    "average_td_gd_loss_list = []\n",
    "running_loss_true_d_list = []\n",
    "g_d_running_loss_list = []\n",
    "number_curves = []\n",
    "\n",
    "epoch_number = 1\n",
    "\n",
    "for epoch in range(0, epochs):\n",
    "    running_loss = 0.0\n",
    "    average_td_gd_loss = 0.0\n",
    "    running_loss_true_d = 0.0\n",
    "    g_d_running_loss = 0.0\n",
    "    \n",
    "    for batch in enumerate(train_loader):\n",
    "        # Create a noisy input\n",
    "        noise = torch.randint(0, 2, size=(batch_size, output_length)).float()\n",
    "        noise = noise.to(device)\n",
    "    \n",
    "        # Generate Labels of data\n",
    "        true_labels = [1] * batch_size\n",
    "        true_labels = torch.tensor(true_labels).float()\n",
    "        true_labels = true_labels.to(device).resize_((batch_size, 1))\n",
    "        \n",
    "        false_labels = torch.zeros(batch_size).to(device).resize_((batch_size, 1))\n",
    "        \n",
    "        # Generate Labels of data with noise\n",
    "        true_labels_noisy = [1 - 0.1 * torch.rand(1)] * batch_size\n",
    "        true_labels_noisy = torch.tensor(true_labels_noisy).float()\n",
    "        true_labels_noisy = true_labels_noisy.to(device).resize_((batch_size, 1))\n",
    "        \n",
    "        false_labels_noisy = [0 + 0.1*torch.rand(1)] * batch_size\n",
    "        false_labels_noisy = torch.tensor(false_labels_noisy).float()\n",
    "        false_labels_noisy = false_labels_noisy.to(device).resize_((batch_size, 1))\n",
    "        \n",
    "        \n",
    "        # Take real data\n",
    "        true_data = batch[1][0]\n",
    "\n",
    "        # zero the parameter gradients\n",
    "        gen_optimizer.zero_grad()\n",
    "\n",
    "        # Forward Pass\n",
    "        G_of_noise = generator(noise)\n",
    "        D_of_G_of_noise = discriminator(torch.sigmoid(G_of_noise).round())\n",
    "        \n",
    "        # Calculate Loss\n",
    "        generator_loss = loss(D_of_G_of_noise, true_labels) + MSE(real_var.squeeze(), torch.var(torch.sigmoid(G_of_noise), dim = 0))*(var_weight)\n",
    "        generator_loss.backward()\n",
    "        gen_optimizer.step()\n",
    "            \n",
    "        # Train the discriminator on the true/generated data\n",
    "        dis_optimizer.zero_grad()\n",
    "        true_discriminator_out = discriminator(true_data)\n",
    "        true_discriminator_loss = loss(true_discriminator_out, true_labels_noisy)\n",
    "\n",
    "        # add .detach() here think about this\n",
    "        generator_discriminator_out = discriminator(torch.sigmoid(G_of_noise.detach()).round()) # introduce new d_of_g_of_noise without gradient\n",
    "        generator_discriminator_loss = loss(generator_discriminator_out, false_labels_noisy)\n",
    "        discriminator_loss = (true_discriminator_loss + generator_discriminator_loss) / 2\n",
    "        discriminator_loss.backward()\n",
    "        dis_optimizer.step()\n",
    "\n",
    "        # print statistics\n",
    "        running_loss += generator_loss.item() * len(batch)\n",
    "        average_td_gd_loss += discriminator_loss.item() * len(batch)\n",
    "        running_loss_true_d += true_discriminator_loss.item() * len(batch)\n",
    "        g_d_running_loss += generator_discriminator_loss.item() * len(batch)\n",
    "\n",
    "        \n",
    "    running_loss_list.append(running_loss / len(train_loader.dataset))\n",
    "    average_td_gd_loss_list.append(average_td_gd_loss / len(train_loader.dataset))\n",
    "    running_loss_true_d_list.append(running_loss_true_d / len(train_loader.dataset))\n",
    "    g_d_running_loss_list.append(g_d_running_loss / len(train_loader.dataset))\n",
    "\n",
    "    print(epoch_number)\n",
    "    epoch_number += 1\n",
    "    #var_weight += 0.05\n",
    "    noise = torch.randint(0, 2, size=(batch_size, output_length)).float()\n",
    "    noise = noise.to(device)\n",
    "    listcurves = extract(torch.sigmoid(generator(noise)))\n",
    "    listcurves.sort()\n",
    "    unique_curves = list(listcurves for listcurves,_ in itertools.groupby(listcurves))\n",
    "    print(len(unique_curves))\n",
    "    number_curves.append(len(unique_curves))\n",
    "   \n",
    "## Save Losses\n",
    "with open(loss_folder + '/running_loss.txt', \"w\") as output:\n",
    "    output.write(str(running_loss_list))\n",
    "    \n",
    "with open(loss_folder + '/average_td_gd_loss.txt', \"w\") as output:\n",
    "    output.write(str(average_td_gd_loss_list))\n",
    "    \n",
    "with open(loss_folder + '/running_loss_true_d.txt', \"w\") as output:\n",
    "    output.write(str(running_loss_true_d_list))\n",
    "    \n",
    "with open(loss_folder + '/g_d_running_loss.txt', \"w\") as output:\n",
    "    output.write(str(g_d_running_loss_list))\n",
    "    \n",
    "with open(loss_folder + '/unique_curves.txt', \"w\") as output:\n",
    "    output.write(str(number_curves))\n",
    "    \n",
    "#plt.plot(running_loss_list, label = \"Generator Loss\")\n",
    "#plt.plot(average_td_gd_loss_list, label = \"Discriminator Loss\")\n",
    "\n",
    "plt.plot(number_curves, label = \"Number of Unique Curves\")\n"
   ]
  },
  {
   "cell_type": "code",
   "execution_count": 482,
   "id": "81797070-647d-4b28-9670-f4edd7c856ca",
   "metadata": {},
   "outputs": [
    {
     "data": {
      "text/plain": [
       "<matplotlib.legend.Legend at 0x7ff4184bd250>"
      ]
     },
     "execution_count": 482,
     "metadata": {},
     "output_type": "execute_result"
    },
    {
     "data": {
      "image/png": "[encoded data removed]",
      "text/plain": [
       "<Figure size 432x288 with 1 Axes>"
      ]
     },
     "metadata": {
      "needs_background": "light"
     },
     "output_type": "display_data"
    }
   ],
   "source": [
    "plt.plot(running_loss_list, label = \"Generator Loss\")\n",
    "plt.plot(average_td_gd_loss_list, label = \"Discriminator Loss\")\n",
    "plt.plot(running_loss_true_d_list, label = \"True D Loss\")\n",
    "plt.plot(g_d_running_loss_list, label = \"False D Loss\")\n",
    "plt.plot(number_curves, label = \"Unique Curves\")\n",
    "plt.legend()\n",
    "#plt.savefig('./Plots/mode_collapse.png')\n",
    "\n"
   ]
  },
  {
   "cell_type": "code",
   "execution_count": 456,
   "id": "c7e622ed-7b57-4fec-9eec-15c5924a1e30",
   "metadata": {},
   "outputs": [],
   "source": [
    "##### Saving the Model\n",
    "\n",
    "## The trained model will now be available in the 'Trained_Models' folder.\n",
    "\n",
    "model_path = './Trained_Models/generator_' + model_name + '.pt' \n",
    "\n",
    "torch.save({\n",
    "        'generator_state_dict': generator.state_dict(),\n",
    "        'optimizer_state_dict': gen_optimizer.state_dict()\n",
    "    }, model_path)"
   ]
  },
  {
   "cell_type": "markdown",
   "id": "eb9115ae-ba7e-485f-bb09-cc488e1dab23",
   "metadata": {},
   "source": [
    "##### Now we have a saved model in the Trained_Models folder\n",
    "\n",
    "Head over to the 'Model_Evaluation' notebook to see what kinds of curves this model generates!"
   ]
  },
  {
   "cell_type": "code",
   "execution_count": null,
   "id": "6c8f208d-28cb-40ac-b5af-131127e653a8",
   "metadata": {},
   "outputs": [],
   "source": []
  }
 ],
 "metadata": {
  "kernelspec": {
   "display_name": "Python 3 (ipykernel)",
   "language": "python",
   "name": "python3"
  },
  "language_info": {
   "codemirror_mode": {
    "name": "ipython",
    "version": 3
   },
   "file_extension": ".py",
   "mimetype": "text/x-python",
   "name": "python",
   "nbconvert_exporter": "python",
   "pygments_lexer": "ipython3",
   "version": "3.9.7"
  }
 },
 "nbformat": 4,
 "nbformat_minor": 5
}
